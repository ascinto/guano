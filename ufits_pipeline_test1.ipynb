{
 "cells": [
  {
   "cell_type": "markdown",
   "metadata": {},
   "source": [
    "# ufits test\n",
    "\n",
    "notes below reflect observations in working through GitHub [README.md] [link1] and [tutorial] [link2] pages  \n",
    "\n",
    "[link1]:https://github.com/nextgenusfs/ufits/blob/master/README.md\n",
    "[link2]:https://github.com/nextgenusfs/ufits/blob/master/docs/tutorial.md\n",
    "\n"
   ]
  },
  {
   "cell_type": "markdown",
   "metadata": {},
   "source": [
    "# pipeline\n",
    "\n",
    "- programs installed using Amazon EC2 instance\n",
    "- initial setup follows similar commands shared on the [linux installation instructions page] [link1].\n",
    "- instructions below assume a working instance is already in progress and no programs have yet to be installed...\n",
    "[link1]:https://github.com/nextgenusfs/ufits/blob/master/docs/ubuntu_install.md"
   ]
  },
  {
   "cell_type": "markdown",
   "metadata": {},
   "source": [
    "## install programs\n",
    "\n",
    "This should look very familiar to the installation instructions provided on the [UFITS Github page] [link1]. Note that there are a few comments about a few of these installs (and the problems I've encountered) which are described after the code is executed. I put an asterisk '\\***' next to the steps in which I've encountered a problem.\n",
    "[link1]:https://github.com/nextgenusfs/ufits/blob/master/docs/ubuntu_install.md"
   ]
  },
  {
   "cell_type": "raw",
   "metadata": {},
   "source": [
    "#install base programs\n",
    "sudo apt-get update\n",
    "sudo apt-get -y upgrade\n",
    "sudo apt-get -y install git ruby curl tmux make g++ unzip\n",
    "\n",
    "#install LinuxBrew\n",
    "ruby -e \"$(curl -fsSL https://raw.githubusercontent.com/Linuxbrew/install/master/install)\"\n",
    "\n",
    "#fix path variables\n",
    "export PATH=\"$HOME/.linuxbrew/bin:$PATH\"\n",
    "export MANPATH=\"$HOME/.linuxbrew/share/man:$MANPATH\"\n",
    "export INFOPATH=\"$HOME/.linuxbrew/share/info:$INFOPATH\"\n",
    "\n",
    "#install python (takes ~ 8 min)\n",
    "brew install python\n",
    "#...and modules\n",
    "pip install biopython natsort pandas numpy matplotlib\n",
    "\n",
    "#install ufits ***\n",
    "brew tap homebrew/science\n",
    "brew tap nextgenusfs/tap\n",
    "brew install ufits\n",
    "\n",
    "#install usearch - download most recent version ***\n",
    "cd ~\n",
    "wget http://drive5.com/cgi-bin/upload3.py?license=2016091412552700361\n",
    "sudo mv upload3.py?license=2016091412552700361 usearch9\n",
    "    #make executable\n",
    "    sudo chmod +x usearch9\n",
    "    #create symlink to folder in $PATH:\n",
    "    cd /usr/local/bin/\n",
    "    sudo ln -s ~/usearch9 .\n",
    "    #confirm that /usr/local/bin is in path variable:\n",
    "    cd ~\n",
    "    which usearch9\n",
    "        #this returns '/usr/local/bin/usearch9'\n",
    "        \n",
    "#install usearch - download older version 8.0\n",
    "cd ~\n",
    "wget http://drive5.com/cgi-bin/upload3.py?license=2016091409553705546\n",
    "sudo mv upload3.py?license=2016091409553705546 usearch8\n",
    "    #make executable\n",
    "    sudo chmod +x usearch8\n",
    "    #create symlink to folder in $PATH:\n",
    "    cd /usr/local/bin/\n",
    "    sudo ln -s ~/usearch8 .\n",
    "    #confirm that /usr/local/bin is in path variable:\n",
    "    cd ~\n",
    "    which usearch8\n",
    "        #this returns '/usr/local/bin/usearch8'"
   ]
  },
  {
   "cell_type": "markdown",
   "metadata": {},
   "source": [
    "### comment about ufits installation:\n",
    "1. There is no resulting 'test_data' folder, but this is manually downloaded below.\n",
    "2. The __ufits__ program is installed in a hidden LinuxBrew subdirectory:  \n",
    "    /home/ubuntu/.linuxbrew/bin/ufits\n",
    "3. The USEARCH install seems to require both version 8 and 9. Both were downloaded and named separately. See explanation in pipeline below."
   ]
  },
  {
   "cell_type": "markdown",
   "metadata": {},
   "source": [
    "## Download necessary datasets (.fastq files and databases)\n",
    "Because the LinuxBrew approach fails to install the test_data directory, you have to install these scripts manually. We'll just install the single Ion Torrent file to test out the program. We're also going to install all but the COI databases."
   ]
  },
  {
   "cell_type": "raw",
   "metadata": {},
   "source": [
    "#install ion.test.fastq file\n",
    "cd ~\n",
    "mkdir test_data\n",
    "cd test_data\n",
    "wget https://github.com/nextgenusfs/ufits/raw/master/test_data/ion.test.fastq\n",
    "\n",
    "#install ITS, LSU, and 16S databases\n",
    "ufits install -i ITS LSU 16S"
   ]
  },
  {
   "cell_type": "markdown",
   "metadata": {},
   "source": [
    "## Run UFITS"
   ]
  },
  {
   "cell_type": "markdown",
   "metadata": {},
   "source": [
    "### Part 1: processing Ion Torrent data\n",
    "\n",
    "Unfortunately, no barcodes are provided in the LinuxBrew install, so if we're trying to follow along with the Pre-processing data example in the [tutorial] [link1], we have to create a text file of the 'barcodes.fa' term implied in the example. That's done in the code below, then we follow with the actual command to execute the 'ufits ion' step.\n",
    "[link1]:https://github.com/nextgenusfs/ufits/blob/master/docs/tutorial.md"
   ]
  },
  {
   "cell_type": "raw",
   "metadata": {},
   "source": [
    "#create 'barcodes.fa' file\n",
    "cd ~/test_data\n",
    "nano barcodes.fa\n",
    "    #paste in the necessary text from the tutorial webpage (link above)\n",
    "\n",
    "#execute ufits ion script within the ~/test_data directory\n",
    "ufits ion -i ion.test.fastq --barcode_fasta barcodes.fa -f GTGARTCATCGAATCTTTG -r TCCTCCGCTTATTGATATGC -o ion\n",
    "#note the slight change in the naming of the input fastq file... by default it was named \"ion.test.fastq\", but in this example it's termed \"ion.fastq\""
   ]
  },
  {
   "cell_type": "markdown",
   "metadata": {},
   "source": [
    "resulting ouput suggests that 5 of 6 barcodes successfully amplified; all but BC_33 (which was the one used to exemplify the barcode matching in the tutorial !?)"
   ]
  },
  {
   "cell_type": "raw",
   "metadata": {},
   "source": [
    "[06:32:57 PM]: Operating system: linux2, ufits v.0.4.5\n",
    "[06:32:57 PM]: Foward primer: AGTGARTCATCGAATCTTTG,  Rev comp'd rev primer: GCATATCAATAAGCGGAGGA\n",
    "[06:32:57 PM]: 2,000 records loaded\n",
    "[06:32:57 PM]: splitting job over 1 cpus, this may still take awhile\n",
    "-------------------------------------------------------\n",
    "[06:32:58 PM]: Concatenating Demuxed Files\n",
    "[06:32:58 PM]: Counting FASTQ Records\n",
    "[06:32:58 PM]: 361 reads processed\n",
    "[06:32:58 PM]: Found 5 barcoded samples\n",
    "                        Sample:  Count\n",
    "                         BC_27:  90\n",
    "                         BC_28:  82\n",
    "                         BC_10:  66\n",
    "                          BC_9:  64\n",
    "                         BC_22:  59\n",
    "[06:32:58 PM]: Output file:  ion.demux.fq (187.0 KB)\n",
    "-------------------------------------------------------"
   ]
  },
  {
   "cell_type": "markdown",
   "metadata": {},
   "source": [
    "### Part 2: clustering data\n",
    "This was the first instance in which an error popped up despite having all the necessary data. It appears that the default USearch8 argument from the ufits-OTU_cluster.py script leads to an error. For example:"
   ]
  },
  {
   "cell_type": "raw",
   "metadata": {},
   "source": [
    "#execute clustering algorithm\n",
    "ufits cluster -i ion.demux.fq -o ion --uchime_ref ITS2"
   ]
  },
  {
   "cell_type": "markdown",
   "metadata": {},
   "source": [
    "Leads to the following error message:"
   ]
  },
  {
   "cell_type": "raw",
   "metadata": {},
   "source": [
    "[06:38:25 PM]: Operating system: linux2, ufits v.0.4.5\n",
    "[06:38:25 PM]: usearch8 not found in your PATH, exiting."
   ]
  },
  {
   "cell_type": "markdown",
   "metadata": {},
   "source": [
    "Instead, I tried specifying the specific verson of USEARCH I've been using as follows:"
   ]
  },
  {
   "cell_type": "raw",
   "metadata": {},
   "source": [
    "which usearch9\n",
    "/usr/local/bin/usearch9\n",
    "\n",
    "ufits cluster -i ion.demux.fq -o ion -u /usr/local/bin/usearch9 --uchime_ref ITS2"
   ]
  },
  {
   "cell_type": "markdown",
   "metadata": {},
   "source": [
    "Interestingly this change by specifying the '-u' path allows USEARCH to function just fine, however a new error pops up with respect to the UPARSE clustering function:"
   ]
  },
  {
   "cell_type": "raw",
   "metadata": {},
   "source": [
    "[06:41:22 PM]: Operating system: linux2, ufits v.0.4.5\n",
    "[06:41:22 PM]: USEARCH version: usearch v9.0.2132_i86linux32\n",
    "[06:41:22 PM]: vsearch v2.0.5 detected, will use for filtering\n",
    "[06:41:22 PM]: Loading FASTQ Records\n",
    "[06:41:22 PM]: 361 reads (187.0 KB)\n",
    "[06:41:22 PM]: Quality Filtering, expected errors < 1.0\n",
    "[06:41:22 PM]: 190 reads passed\n",
    "[06:41:22 PM]: De-replication (remove duplicate reads)\n",
    "[06:41:22 PM]: 70 reads passed\n",
    "[06:41:22 PM]: Sorting reads by size: removing reads seen less than 2 times\n",
    "[06:41:22 PM]: Clustering OTUs (UPARSE)\n",
    "Traceback (most recent call last):\n",
    "  File \"/home/ubuntu/.linuxbrew/Cellar/ufits/0.4.5/libexec/bin/ufits-OTU_cluster.py\", line 148, in <module>\n",
    "    total = ufitslib.countfasta(otu_out)\n",
    "  File \"/home/ubuntu/.linuxbrew/Cellar/ufits/0.4.5/libexec/lib/ufitslib.py\", line 18, in countfasta\n",
    "    with open(input, 'rU') as f:\n",
    "IOError: [Errno 2] No such file or directory: 'ion_tmp/ion.EE1.0.otus.fa'"
   ]
  },
  {
   "cell_type": "markdown",
   "metadata": {},
   "source": [
    "I wondered if there was simply some discrepency between running USearch 9.0 vs. 8.0... This was why I ended up downloading both version 8.0 in addition to the 9.0 version I installed initially. Setting the paths and symlinks using the usearch8 and usearch9 then allowed me to specify which version of usearch to use depending on which version was needed for each ufits python script.   \n",
    "\n",
    "Interestingly, if I run usearch8 with the same command as above:"
   ]
  },
  {
   "cell_type": "raw",
   "metadata": {},
   "source": [
    "which usearch8\n",
    "/usr/local/bin/usearch8\n",
    "\n",
    "cd ~/test_data\n",
    "ufits cluster -i ion.demux.fq -o ion -u /usr/local/bin/usearch8 --uchime_ref ITS2"
   ]
  },
  {
   "cell_type": "markdown",
   "metadata": {},
   "source": [
    "Boom. Works like a charm! Well almost... notice right at the end of the table we fail to get any of our OTUs to pass the VSEARCH chimera filtering step."
   ]
  },
  {
   "cell_type": "raw",
   "metadata": {},
   "source": [
    "[06:56:24 PM]: Operating system: linux2, ufits v.0.4.5\n",
    "[06:56:24 PM]: USEARCH version: usearch v8.0.1623_i86linux32\n",
    "[06:56:24 PM]: vsearch v2.0.5 detected, will use for filtering\n",
    "[06:56:24 PM]: Loading FASTQ Records\n",
    "[06:56:24 PM]: 361 reads (187.0 KB)\n",
    "[06:56:24 PM]: Quality Filtering, expected errors < 1.0\n",
    "[06:56:24 PM]: 190 reads passed\n",
    "[06:56:24 PM]: De-replication (remove duplicate reads)\n",
    "[06:56:24 PM]: 70 reads passed\n",
    "[06:56:24 PM]: Sorting reads by size: removing reads seen less than 2 times\n",
    "[06:56:24 PM]: Clustering OTUs (UPARSE)\n",
    "[06:56:24 PM]: 17 OTUs\n",
    "[06:56:24 PM]: Cleaning up padding from OTUs\n",
    "[06:56:24 PM]: Chimera Filtering (VSEARCH)\n",
    "[06:56:24 PM]: 0 OTUs passed\n",
    "[06:56:24 PM]: Mapping Reads to OTUs\n",
    "[06:56:24 PM]: 0 reads mapped to OTUs (0%)\n",
    "[06:56:24 PM]: Creating OTU Table\n",
    "-------------------------------------------------------\n",
    "OTU Clustering Script has Finished Successfully\n",
    "-------------------------------------------------------"
   ]
  },
  {
   "cell_type": "markdown",
   "metadata": {},
   "source": [
    "I'm still unclear why that is; I think what might be the case is that the test data I downloaded in this tutorial from your GitHub page wasn't the same as what you used in your example. The fact that BC_33 wasn't even a match for any of the ion.test.fastq reads makes me think this is the case... In any event, I think it's very important to note that running USEARCH9.0 doesn't go, but a change to v_8.0 solves the problem.  \n",
    "\n",
    "Nevertheless, you can proceed with this test data if you avoid the chimera filtering step as follows (all I'm doing is removing the '--uchime_ref ITS2' portion of the code most recently executed:"
   ]
  },
  {
   "cell_type": "raw",
   "metadata": {},
   "source": [
    "cd ~/test_data\n",
    "ufits cluster -i ion.demux.fq -o ion -u /usr/local/bin/usearch8"
   ]
  },
  {
   "cell_type": "markdown",
   "metadata": {},
   "source": [
    "Sure enought, we get the same number of reads passing filters, same number of OTUs called, but we do get a proportion of reads to actually make their way into the OTU table so we can continue with the tutorial. Nice."
   ]
  },
  {
   "cell_type": "raw",
   "metadata": {},
   "source": [
    "[07:01:38 PM]: Operating system: linux2, ufits v.0.4.5\n",
    "[07:01:38 PM]: USEARCH version: usearch v8.0.1623_i86linux32\n",
    "[07:01:38 PM]: vsearch v2.0.5 detected, will use for filtering\n",
    "[07:01:38 PM]: Loading FASTQ Records\n",
    "[07:01:38 PM]: 361 reads (187.0 KB)\n",
    "[07:01:38 PM]: Quality Filtering, expected errors < 1.0\n",
    "[07:01:38 PM]: 190 reads passed\n",
    "[07:01:38 PM]: De-replication (remove duplicate reads)\n",
    "[07:01:38 PM]: 70 reads passed\n",
    "[07:01:38 PM]: Sorting reads by size: removing reads seen less than 2 times\n",
    "[07:01:38 PM]: Clustering OTUs (UPARSE)\n",
    "[07:01:38 PM]: 17 OTUs\n",
    "[07:01:38 PM]: Cleaning up padding from OTUs\n",
    "[07:01:38 PM]: Mapping Reads to OTUs\n",
    "[07:01:38 PM]: 231 reads mapped to OTUs (64%)\n",
    "[07:01:38 PM]: Creating OTU Table\n",
    "-------------------------------------------------------\n",
    "OTU Clustering Script has Finished Successfully\n",
    "-------------------------------------------------------\n",
    "Tmp Folder of files: ion_tmp\n",
    "Clustered OTUs: /home/ubuntu/test_data/ion.cluster.otus.fa\n",
    "OTU Table: /home/ubuntu/test_data/ion.otu_table.txt\n",
    "-------------------------------------------------------"
   ]
  },
  {
   "cell_type": "markdown",
   "metadata": {},
   "source": [
    "## Part 3: filtering OTU table\n",
    "\n",
    "Because the LinuxBrew install didn't include specific data I got to a point in the day where I didn't both testing the filter command using the '-b mock' flag. This should be simple enought. I proceeded just by using the command where you specify the percent index-bleed across all samples:"
   ]
  },
  {
   "cell_type": "raw",
   "metadata": {},
   "source": [
    "cd ~/test_data/\n",
    "\n",
    "ufits filter \\\n",
    "-i ion.otu_table.txt \\\n",
    "-f ion.cluster.otus.fa \\\n",
    "-p 0.005"
   ]
  },
  {
   "cell_type": "markdown",
   "metadata": {},
   "source": [
    "No issues here:"
   ]
  },
  {
   "cell_type": "raw",
   "metadata": {},
   "source": [
    "-------------------------------------------------------\n",
    "[07:10:34 PM]: Operating system: linux2, ufits v.0.4.5\n",
    "[07:10:34 PM]: USEARCH version: usearch v8.0.1623_i86linux32\n",
    "[07:10:34 PM]: Loading OTU table: ion.otu_table.txt\n",
    "[07:10:34 PM]: OTU table contains 17 OTUs\n",
    "[07:10:34 PM]: Sorting OTU table naturally\n",
    "[07:10:34 PM]: Removing OTUs according to --min_reads_otu: (OTUs with less than 2 reads from all samples)\n",
    "[07:10:34 PM]: Normalizing OTU table to number of reads per sample\n",
    "[07:10:34 PM]: Overwriting auto detect index-bleed, setting to 0.500000%\n",
    "[07:10:34 PM]: Filtering OTU table down to 17 OTUs\n",
    "[07:10:34 PM]: Filtering valid OTUs\n",
    "-------------------------------------------------------\n",
    "OTU Table filtering finished\n",
    "-------------------------------------------------------\n",
    "OTU Table Stats:   ion.stats.csv\n",
    "Sorted OTU table:  ion.sorted.csv\n",
    "Normalized (pct):  ion.normalized.pct.csv\n",
    "Normalized (10k):  ion.normalized.num.csv\n",
    "Final filtered:    ion.final.csv\n",
    "Final binary:      ion.final.binary.csv\n",
    "Filtered OTUs:     ion.filtered.otus.fa\n",
    "-------------------------------------------------------"
   ]
  },
  {
   "cell_type": "markdown",
   "metadata": {},
   "source": [
    "## Part 4: Assigning Taxonomy to OTUs\n",
    "\n",
    "There's a tiny issue with the instructions in the tutorial page, specifically with the script used as the example in the \"Assigning Taxonomy to your OTUs\" section... Here's the code you've provided as the example:"
   ]
  },
  {
   "cell_type": "raw",
   "metadata": {},
   "source": [
    "ufits taxonomy -i ion.mock.otus.fa --append_taxonomy ion.final.binary.csv --only_fungi"
   ]
  },
  {
   "cell_type": "markdown",
   "metadata": {},
   "source": [
    "And here's the example code that is suggested from the output of the previous script:"
   ]
  },
  {
   "cell_type": "raw",
   "metadata": {},
   "source": [
    "ufits taxonomy -f ion.filtered.otus.fa -i ion.final.binary.csv -d ITS2"
   ]
  },
  {
   "cell_type": "markdown",
   "metadata": {},
   "source": [
    "The difference? No fasta file flag is specified (there's the '-i' flag first for the OTU table but you follow that flag up with a fasta file); and, no OTU table is put in.  It took me a while to catch that error, and I was excited thinking that all I had to do was just follow the instructions the program suggested instead of the online tutorial. I also realized a while later that you illustrate the various approaches possible in the README.md page __differently__ and I think correctly. So I entered this:"
   ]
  },
  {
   "cell_type": "raw",
   "metadata": {},
   "source": [
    "ufits taxonomy -f ion.filtered.otus.fa -i ion.final.binary.csv -d ITS2"
   ]
  },
  {
   "cell_type": "markdown",
   "metadata": {},
   "source": [
    "And I got this:"
   ]
  },
  {
   "cell_type": "raw",
   "metadata": {},
   "source": [
    "[07:15:51 PM]: Operating system: linux2, ufits v.0.4.5\n",
    "[07:15:51 PM]: vsearch v2.0.5 detected\n",
    "[07:15:51 PM]: USEARCH version: usearch v8.0.1623_i86linux32 detected you need v8.1.1756 or above"
   ]
  },
  {
   "cell_type": "markdown",
   "metadata": {},
   "source": [
    "Which made me cry a bit... But that's when I realized you need to have multiple versions of USEARCH to get this to all pull together, or at least a version at 8.1 or greater. And it totally was staring me in the face in the [README.md] [link1] file, but unfortunately it's not explicity in the [tutorial] [link2]. It's also perhaps unnecessarily tricky that you can use a lower version for some of the early aspects of the program but not later.  \n",
    "\n",
    "Perhaps at very least in the tutorial example you can be explicit about which versions will or will not work for that step, in addition to the information you provide in the README.md page.  \n",
    "\n",
    "Once I realized I needed an updated version of USEARCH, I then installed usearch9, and entered the following code:\n",
    "[link1]:https://github.com/nextgenusfs/ufits/blob/master/README.md\n",
    "[link2]:https://github.com/nextgenusfs/ufits/blob/master/docs/tutorial.md"
   ]
  },
  {
   "cell_type": "raw",
   "metadata": {},
   "source": [
    "ufits taxonomy -f ion.filtered.otus.fa -i ion.final.binary.csv -d ITS2 -u /usr/local/bin/usearch9"
   ]
  },
  {
   "cell_type": "markdown",
   "metadata": {},
   "source": [
    "And I was sorely disappointed to realize this was giving the me the same error message... How is v9.0 not above 8.1??"
   ]
  },
  {
   "cell_type": "raw",
   "metadata": {},
   "source": [
    "[07:24:08 PM]: Operating system: linux2, ufits v.0.4.5\n",
    "[07:24:08 PM]: vsearch v2.0.5 detected\n",
    "[07:24:08 PM]: USEARCH version: usearch v9.0.2132_i86linux32 detected you need v8.1.1756 or above"
   ]
  },
  {
   "cell_type": "markdown",
   "metadata": {},
   "source": [
    "Perhaps the problem has something to do with the default taxonomy method. I tried specifying just the usearch method:"
   ]
  },
  {
   "cell_type": "raw",
   "metadata": {},
   "source": [
    "ufits taxonomy -f ion.filtered.otus.fa -i ion.final.binary.csv -d ITS2 -u /usr/local/bin/usearch9 -m usearch"
   ]
  },
  {
   "cell_type": "markdown",
   "metadata": {},
   "source": [
    "Boo. Same error message. Wasn't expecting that."
   ]
  },
  {
   "cell_type": "raw",
   "metadata": {},
   "source": [
    "[07:25:42 PM]: Operating system: linux2, ufits v.0.4.5\n",
    "[07:25:42 PM]: vsearch v2.0.5 detected\n",
    "[07:25:42 PM]: USEARCH version: usearch v9.0.2132_i86linux32 detected you need v8.1.1756 or above"
   ]
  },
  {
   "cell_type": "markdown",
   "metadata": {},
   "source": [
    "Last ditch effort was to install exactly the version that was described by the error message: v8.1.1756"
   ]
  },
  {
   "cell_type": "raw",
   "metadata": {},
   "source": [
    "#install usearch - download slightly not oldest version 8.1.1756\n",
    "cd ~\n",
    "wget http://drive5.com/cgi-bin/upload3.py?license=2016091415300208639\n",
    "sudo mv upload3.py?license=2016091415300208639 usearch8_1\n",
    "    #make executable\n",
    "    sudo chmod +x usearch8_1\n",
    "    #create symlink to folder in $PATH:\n",
    "    cd /usr/local/bin/\n",
    "    sudo ln -s ~/usearch8_1 ."
   ]
  },
  {
   "cell_type": "markdown",
   "metadata": {},
   "source": [
    "Then try running the taxonomy script once more specifying this specific v8.1:"
   ]
  },
  {
   "cell_type": "raw",
   "metadata": {},
   "source": [
    "ufits taxonomy -f ion.filtered.otus.fa -i ion.final.binary.csv -d ITS -u /usr/local/bin/usearch8_1"
   ]
  },
  {
   "cell_type": "markdown",
   "metadata": {},
   "source": [
    "And it totally worked. Well sort of. The script ran, but because (again) my test data set probably wasn't the same one you used in your tutorial example, this was somewhat expected.  \n",
    "\n",
    "And that's totally silly that version 9 won't work, but version 8.1 will:"
   ]
  },
  {
   "cell_type": "raw",
   "metadata": {},
   "source": [
    "[07:35:36 PM]: Operating system: linux2, ufits v.0.4.5\n",
    "[07:35:36 PM]: vsearch v2.0.5 detected\n",
    "[07:35:36 PM]: USEARCH version: usearch v8.1.1756_i86linux32\n",
    "[07:35:36 PM]: Loading FASTA Records\n",
    "[07:35:36 PM]: 17 OTUs\n",
    "[07:35:36 PM]: Global alignment OTUs with usearch_global (USEARCH)\n",
    "[07:35:50 PM]: Classifying OTUs with UTAX (USEARCH8)\n",
    "[07:35:51 PM]: Appending taxonomy to OTU table and OTUs\n",
    "[07:35:51 PM]: Taxonomy finished: ion.otu_table.taxonomy.txt\n",
    "-------------------------------------------------------"
   ]
  },
  {
   "cell_type": "markdown",
   "metadata": {},
   "source": [
    "And the results of that taxonomy table:"
   ]
  },
  {
   "cell_type": "raw",
   "metadata": {},
   "source": [
    "ubuntu@ip-172-31-15-219:~/test_data$  head ion.otu_table.taxonomy.txt\n",
    "\n",
    "OTUId\tBC_9\tBC_10\tBC_22\tBC_27\tBC_28\tTaxonomy\n",
    "OTU_1\t0\t0\t1\t0\t0\tNo Hit\n",
    "OTU_2\t0\t1\t0\t0\t0\tNo Hit\n",
    "OTU_3\t1\t0\t0\t0\t0\tNo Hit\n",
    "OTU_4\t0\t0\t0\t1\t1\tNo Hit\n",
    "OTU_5\t0\t0\t0\t1\t1\tNo Hit\n",
    "OTU_6\t0\t0\t0\t1\t1\tNo Hit\n",
    "OTU_7\t0\t0\t0\t1\t1\tNo Hit\n",
    "OTU_8\t0\t0\t0\t1\t0\tNo Hit\n",
    "OTU_9\t0\t0\t0\t1\t1\tNo Hit"
   ]
  }
 ],
 "metadata": {
  "kernelspec": {
   "display_name": "Python 3",
   "language": "python",
   "name": "python3"
  },
  "language_info": {
   "codemirror_mode": {
    "name": "ipython",
    "version": 3
   },
   "file_extension": ".py",
   "mimetype": "text/x-python",
   "name": "python",
   "nbconvert_exporter": "python",
   "pygments_lexer": "ipython3",
   "version": "3.5.1"
  }
 },
 "nbformat": 4,
 "nbformat_minor": 0
}
